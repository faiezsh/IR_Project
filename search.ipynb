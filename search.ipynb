{
 "cells": [
  {
   "cell_type": "code",
   "execution_count": null,
   "metadata": {},
   "outputs": [],
   "source": [
    "import pandas as pd \n",
    "import inverted_Index as inverted\n",
    "import evaluation\n",
    "train_set = []  # Documents\n",
    "data=\"newTrainDoc\"\n",
    "cleanDf = pd.read_excel(data+\".xlsx\")\n",
    "df = pd.read_excel(\"antique_train_docs.xlsx\")\n",
    "qrel=pd.read_excel(\"antique_train_qrels.xlsx\")\n",
    "query=pd.read_excel(\"newTrainqury.xlsx\")\n",
    "reverse_index = inverted.invert_dict(cleanDf)\n"
   ]
  },
  {
   "cell_type": "code",
   "execution_count": null,
   "metadata": {},
   "outputs": [],
   "source": [
    "matrix=evaluation.search_data(reverse_index,query,cleanDf,df,qrel)\n",
    "pr=0.0\n",
    "re=0.0\n",
    "fm=0.0\n",
    "Map=0.0\n",
    "Mrr=0.0\n",
    "for m in matrix:\n",
    "    pr+=m[0]\n",
    "    re+=m[1]\n",
    "    fm+=m[2]\n",
    "    Map+=m[3]\n",
    "    Mrr+=m[4]\n",
    "\n",
    "pr=pr/len(matrix)\n",
    "re=re/len(matrix)\n",
    "fm=fm/len(matrix)\n",
    "Map=Map/len(matrix)\n",
    "Mrr=Mrr/len(matrix)\n",
    "print(pr*100)\n",
    "print(re*100)\n",
    "print(fm*100)\n",
    "print(Map*100)\n",
    "print(Mrr*100)"
   ]
  },
  {
   "cell_type": "code",
   "execution_count": null,
   "metadata": {},
   "outputs": [],
   "source": []
  }
 ],
 "metadata": {
  "kernelspec": {
   "display_name": "base",
   "language": "python",
   "name": "python3"
  },
  "language_info": {
   "codemirror_mode": {
    "name": "ipython",
    "version": 3
   },
   "file_extension": ".py",
   "mimetype": "text/x-python",
   "name": "python",
   "nbconvert_exporter": "python",
   "pygments_lexer": "ipython3",
   "version": "3.10.9"
  },
  "orig_nbformat": 4
 },
 "nbformat": 4,
 "nbformat_minor": 2
}
